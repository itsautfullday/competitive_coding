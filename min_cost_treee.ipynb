{
 "cells": [
  {
   "cell_type": "code",
   "execution_count": 4,
   "metadata": {},
   "outputs": [
    {
     "name": "stdout",
     "output_type": "stream",
     "text": [
      "1\n",
      "0\n",
      "15\n",
      "1\n",
      "0\n",
      "45\n",
      "1\n",
      "0\n",
      "105\n"
     ]
    }
   ],
   "source": [
    "arr = [3,5,6,10]\n",
    "res = 0\n",
    "while(len(arr) > 1):\n",
    "    min_index = arr.index(min(arr))\n",
    "    print(min_index)\n",
    "    if(min_index != 0 and min_index != len(arr) -1):\n",
    "        res += arr[min_index] * (arr[arr.index(min(arr[min_index +1 ], arr[min_index-1]))])\n",
    "    else:\n",
    "        if(min_index == 0):\n",
    "            val = min_index + 1\n",
    "        else:\n",
    "            val = min_index - 1\n",
    "        res += arr[min_index] * arr[val]\n",
    "    print(res)\n",
    "    arr.pop(min_index)"
   ]
  },
  {
   "cell_type": "code",
   "execution_count": null,
   "metadata": {},
   "outputs": [],
   "source": []
  },
  {
   "cell_type": "code",
   "execution_count": null,
   "metadata": {},
   "outputs": [],
   "source": []
  }
 ],
 "metadata": {
  "kernelspec": {
   "display_name": "Python 3",
   "language": "python",
   "name": "python3"
  },
  "language_info": {
   "codemirror_mode": {
    "name": "ipython",
    "version": 3
   },
   "file_extension": ".py",
   "mimetype": "text/x-python",
   "name": "python",
   "nbconvert_exporter": "python",
   "pygments_lexer": "ipython3",
   "version": "3.7.6"
  }
 },
 "nbformat": 4,
 "nbformat_minor": 4
}
