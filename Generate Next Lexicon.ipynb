{
 "cells": [
  {
   "cell_type": "code",
   "execution_count": 18,
   "metadata": {},
   "outputs": [],
   "source": [
    "    def gen_nex_lex(nums2):\n",
    "        nums = nums2.copy()\n",
    "        i = len(nums) - 1\n",
    "        lex_found = False\n",
    "        while(i > 0 and not lex_found):\n",
    "            #parse in i till you find a smaller value\n",
    "            main = nums[i]\n",
    "            weakling = nums[i-1]\n",
    "            if(weakling < main):\n",
    "                lex_found = True\n",
    "            else:\n",
    "                i-=1\n",
    "        #swap starter and that val\n",
    "        if(lex_found == False):\n",
    "            return None\n",
    "        #number at i-1 needs to be switched by smallest \n",
    "        key = nums[i-1]\n",
    "        arrayOfConsideration = nums[i:len(nums)]\n",
    "        minVal = None\n",
    "        minIndex = None\n",
    "        for j in range(i, i+len(arrayOfConsideration)):\n",
    "            if(nums[j] >= key):\n",
    "                if(minVal == None or minVal > nums[j]):\n",
    "                    minVal = nums[j]\n",
    "                    minIndex = j\n",
    "        temp = nums[i-1]\n",
    "        nums[i-1] = minVal \n",
    "        nums[minIndex] = temp\n",
    "        nums[i:len(nums)] = sorted(nums[i:len(nums)])\n",
    "        return nums"
   ]
  },
  {
   "cell_type": "code",
   "execution_count": 19,
   "metadata": {},
   "outputs": [
    {
     "name": "stdout",
     "output_type": "stream",
     "text": [
      "[1, 3, 2]\n"
     ]
    }
   ],
   "source": [
    "print(gen_nex_lex([1,2,3]))"
   ]
  },
  {
   "cell_type": "code",
   "execution_count": 20,
   "metadata": {},
   "outputs": [],
   "source": [
    "ls = []"
   ]
  },
  {
   "cell_type": "code",
   "execution_count": 15,
   "metadata": {},
   "outputs": [
    {
     "name": "stdout",
     "output_type": "stream",
     "text": [
      "[3, 2, 1]\n",
      "-1\n",
      "None [3, 2, 1]\n"
     ]
    }
   ],
   "source": [
    "print(ls)\n",
    "print(gen_nex_lex(ls), ls)"
   ]
  },
  {
   "cell_type": "code",
   "execution_count": null,
   "metadata": {},
   "outputs": [],
   "source": []
  },
  {
   "cell_type": "code",
   "execution_count": null,
   "metadata": {},
   "outputs": [],
   "source": []
  },
  {
   "cell_type": "code",
   "execution_count": null,
   "metadata": {},
   "outputs": [],
   "source": []
  }
 ],
 "metadata": {
  "kernelspec": {
   "display_name": "Python 3",
   "language": "python",
   "name": "python3"
  },
  "language_info": {
   "codemirror_mode": {
    "name": "ipython",
    "version": 3
   },
   "file_extension": ".py",
   "mimetype": "text/x-python",
   "name": "python",
   "nbconvert_exporter": "python",
   "pygments_lexer": "ipython3",
   "version": "3.7.6"
  }
 },
 "nbformat": 4,
 "nbformat_minor": 4
}
