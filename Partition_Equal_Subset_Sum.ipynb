{
 "cells": [
  {
   "cell_type": "code",
   "execution_count": 69,
   "metadata": {},
   "outputs": [],
   "source": [
    "Input =[1,3,5,5,5,5]"
   ]
  },
  {
   "cell_type": "code",
   "execution_count": 75,
   "metadata": {},
   "outputs": [
    {
     "name": "stdout",
     "output_type": "stream",
     "text": [
      "7 13\n"
     ]
    }
   ],
   "source": [
    "ls = sorted(Input)\n",
    "target = sum(Input)//2 #because for this partiitioning the sum needs to be halved\n",
    "dp = [[None] * (target + 1)] * (len(Input) + 1)\n",
    "print(len(dp), len(dp[0]))"
   ]
  },
  {
   "cell_type": "code",
   "execution_count": 78,
   "metadata": {},
   "outputs": [],
   "source": [
    "def subSetSum(target, i):\n",
    "    #what would be the base condition\n",
    "    #target = 0 \n",
    "    print(i,target)\n",
    "    if(i == -1 and target == 0):\n",
    "        dp[i][target] = True\n",
    "    elif( i == -1 or target <= 0):\n",
    "        dp[i][target] = False\n",
    "    else:\n",
    "        if(dp[i][target] != None):\n",
    "            return dp[i][target]\n",
    "        if(ls[i] > target):\n",
    "            dp[i][target] = subSetSum(target, i-1)\n",
    "        else:\n",
    "            dp[i][target] = subSetSum(target- ls[i],i-1) or subSetSum(target, i-1)\n",
    "    return dp[i][target]"
   ]
  },
  {
   "cell_type": "code",
   "execution_count": 79,
   "metadata": {
    "scrolled": true
   },
   "outputs": [
    {
     "name": "stdout",
     "output_type": "stream",
     "text": [
      "5 12\n",
      "4 7\n",
      "4 12\n",
      "3 7\n",
      "3 12\n",
      "2 7\n",
      "2 12\n",
      "1 7\n",
      "1 12\n",
      "0 9\n",
      "-1 8\n",
      "-1 9\n",
      "0 12\n",
      "-1 11\n",
      "-1 12\n"
     ]
    },
    {
     "data": {
      "text/plain": [
       "False"
      ]
     },
     "execution_count": 79,
     "metadata": {},
     "output_type": "execute_result"
    }
   ],
   "source": [
    "subSetSum(target,len(Input)-1)"
   ]
  },
  {
   "cell_type": "code",
   "execution_count": null,
   "metadata": {},
   "outputs": [],
   "source": []
  },
  {
   "cell_type": "code",
   "execution_count": null,
   "metadata": {},
   "outputs": [],
   "source": []
  }
 ],
 "metadata": {
  "kernelspec": {
   "display_name": "Python 3",
   "language": "python",
   "name": "python3"
  },
  "language_info": {
   "codemirror_mode": {
    "name": "ipython",
    "version": 3
   },
   "file_extension": ".py",
   "mimetype": "text/x-python",
   "name": "python",
   "nbconvert_exporter": "python",
   "pygments_lexer": "ipython3",
   "version": "3.7.6"
  }
 },
 "nbformat": 4,
 "nbformat_minor": 4
}
