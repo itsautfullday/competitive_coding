{
 "cells": [
  {
   "cell_type": "code",
   "execution_count": 1,
   "metadata": {},
   "outputs": [],
   "source": [
    "class TreeNode:\n",
    "    def __init__(self, val=0, left=None, right=None):\n",
    "        self.val = val\n",
    "        self.left = left\n",
    "        self.right = right"
   ]
  },
  {
   "cell_type": "code",
   "execution_count": 5,
   "metadata": {},
   "outputs": [],
   "source": [
    "def number(root: TreeNode):\n",
    "    if(root == None):\n",
    "            return [0,0,0]\n",
    "    else:\n",
    "        left = number(root.left)\n",
    "        right = number(root.right)\n",
    "        sum_of_tree = left[0] + right[0] + root.val\n",
    "        count_of_tree = left[1] + right[1] + 1\n",
    "        avg_of_tree = sum_of_tree/count_of_tree\n",
    "        return [sum_of_tree, count_of_tree, max(avg_of_tree, left[2], right[2])]"
   ]
  },
  {
   "cell_type": "code",
   "execution_count": 6,
   "metadata": {},
   "outputs": [],
   "source": [
    "def maximumAverageSubtree(self, root: TreeNode) -> float:\n",
    "    return number(root)[2]"
   ]
  },
  {
   "cell_type": "code",
   "execution_count": null,
   "metadata": {},
   "outputs": [],
   "source": [
    "# Algo\n",
    "# create an array that would return for each node, [sum of tree rooted at that node, count of tree rooted at that node, max avg of tree rooted at that node]\n",
    "# avg = sum_of_tree/count_of_tree\n",
    "# one can get max average from avg and left[2] and right[2] where left and right are calls of the same function"
   ]
  }
 ],
 "metadata": {
  "kernelspec": {
   "display_name": "Python 3",
   "language": "python",
   "name": "python3"
  },
  "language_info": {
   "codemirror_mode": {
    "name": "ipython",
    "version": 3
   },
   "file_extension": ".py",
   "mimetype": "text/x-python",
   "name": "python",
   "nbconvert_exporter": "python",
   "pygments_lexer": "ipython3",
   "version": "3.7.6"
  }
 },
 "nbformat": 4,
 "nbformat_minor": 4
}
